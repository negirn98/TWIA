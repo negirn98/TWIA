{
 "cells": [
  {
   "cell_type": "code",
   "execution_count": 1,
   "metadata": {},
   "outputs": [
    {
     "name": "stdout",
     "output_type": "stream",
     "text": [
      "{'essentially', 'only', 'also', 'five', 'It', 'typesetting,', 'not', 'has', 'into', 'but', 'unchanged.', 'the', 'centuries,', 'remaining', 'electronic', 'survived', 'leap'}\n"
     ]
    },
    {
     "name": "stderr",
     "output_type": "stream",
     "text": [
      "[nltk_data] Downloading package wordnet to C:\\Users\\Rohit\n",
      "[nltk_data]     Negi\\AppData\\Roaming\\nltk_data...\n",
      "[nltk_data]   Package wordnet is already up-to-date!\n"
     ]
    }
   ],
   "source": [
    "import nltk\n",
    "nltk.download('wordnet')\n",
    "from nltk.corpus import wordnet\n",
    "my_text = 'It has survived not only five centuries, but also the leap into electronic typesetting, remaining essentially unchanged.'\n",
    "sent = my_text.split()\n",
    "context = set(sent)\n",
    "print(context)"
   ]
  },
  {
   "cell_type": "code",
   "execution_count": 2,
   "metadata": {},
   "outputs": [],
   "source": [
    "synsets = wordnet.synsets('Mobile')"
   ]
  },
  {
   "cell_type": "code",
   "execution_count": 3,
   "metadata": {},
   "outputs": [
    {
     "name": "stdout",
     "output_type": "stream",
     "text": [
      "Synset('mobile.n.01') : a river in southwestern Alabama; flows into Mobile Bay\n",
      "Synset('mobile.n.02') : a port in southwestern Alabama on Mobile Bay\n",
      "Synset('mobile.n.03') : sculpture suspended in midair whose delicately balanced parts can be set in motion by air currents\n",
      "Synset('mobile.s.01') : migratory\n",
      "Synset('mobile.a.02') : moving or capable of moving readily (especially from place to place)\n",
      "Synset('mobile.s.03') : having transportation available\n",
      "Synset('mobile.s.04') : capable of changing quickly from one state or condition to another\n",
      "Synset('fluid.s.05') : affording change (especially in social status)\n"
     ]
    }
   ],
   "source": [
    "for ss in synsets:\n",
    "    print(ss,':',ss.definition())"
   ]
  },
  {
   "cell_type": "code",
   "execution_count": 4,
   "metadata": {},
   "outputs": [
    {
     "data": {
      "text/plain": [
       "(1, Synset('mobile.n.01'))"
      ]
     },
     "execution_count": 4,
     "metadata": {},
     "output_type": "execute_result"
    }
   ],
   "source": [
    "sense = max((len(context.intersection(ss.definition().split())), ss) for ss in synsets)\n",
    "sense"
   ]
  },
  {
   "cell_type": "code",
   "execution_count": null,
   "metadata": {},
   "outputs": [],
   "source": []
  }
 ],
 "metadata": {
  "kernelspec": {
   "display_name": "Python 3",
   "language": "python",
   "name": "python3"
  },
  "language_info": {
   "codemirror_mode": {
    "name": "ipython",
    "version": 3
   },
   "file_extension": ".py",
   "mimetype": "text/x-python",
   "name": "python",
   "nbconvert_exporter": "python",
   "pygments_lexer": "ipython3",
   "version": "3.8.5"
  }
 },
 "nbformat": 4,
 "nbformat_minor": 2
}
